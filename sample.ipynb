{
 "cells": [
  {
   "cell_type": "code",
   "execution_count": 404,
   "metadata": {},
   "outputs": [],
   "source": [
    "import pandas as pd\n",
    "import numpy as np\n",
    "from shapely.geometry import Point, Polygon"
   ]
  },
  {
   "cell_type": "code",
   "execution_count": 427,
   "metadata": {},
   "outputs": [],
   "source": [
    "# data_places = pd.read_csv('')\n",
    "# data_users = pd.read_csv('')\n",
    "\n",
    "#данные для теста\n",
    "data_places = {\n",
    "    'place_id': [1, 1, 1, 1, 2, 2, 2, 2, 3, 3, 3, 3],\n",
    "    'loc_lat': \n",
    "        [\n",
    "            55.747022, 55.751713, 55.753878, 55.751031, 55.803885, 55.808677, 55.809763, \n",
    "            55.810840, -72.2887087, -72.2838593, -72.2712421, -72.2886229\n",
    "        ],\n",
    "    'loc_lon': \n",
    "        [\n",
    "            37.787073, 37.784328, 37.777638, 37.779351, 37.458311, 37.464054, 37.461314, \n",
    "            37.458654, 42.9285882, 42.9228533, 42.927457, 42.9285411\n",
    "        ],\n",
    "    'point_number': [0, 1, 2, 3, 0, 1, 2, 3, 0, 1, 2, 3]\n",
    "}\n",
    "\n",
    "data_users = {\n",
    "    'user_id': [1, 2, 3, 4, 5],\n",
    "    'loc_lat': [55.737564, 56.234564, 55.234578, -72.2808766, -72.2790956],\n",
    "    'loc_lon': [37.345186, 37.234590, 36.295745, 42.9262315, 42.9245974]\n",
    "}\n",
    "\n",
    "df_places = pd.DataFrame(data_places)\n",
    "df_users = pd.DataFrame(data_users)"
   ]
  },
  {
   "cell_type": "code",
   "execution_count": null,
   "metadata": {},
   "outputs": [],
   "source": []
  },
  {
   "cell_type": "code",
   "execution_count": 406,
   "metadata": {},
   "outputs": [],
   "source": [
    "#формирование списка пользователей\n",
    "\n",
    "user_point = {}\n",
    "\n",
    "for i in df_users.user_id:\n",
    "    user_point.update({i: df_users.loc[df_users.user_id == i][['loc_lat', 'loc_lon']].to_numpy().tolist()[0]})"
   ]
  },
  {
   "cell_type": "code",
   "execution_count": 378,
   "metadata": {},
   "outputs": [],
   "source": []
  },
  {
   "cell_type": "code",
   "execution_count": 423,
   "metadata": {},
   "outputs": [
    {
     "name": "stderr",
     "output_type": "stream",
     "text": [
      "/Users/askhabaliev/Desktop/yandex/venv/lib/python3.7/site-packages/ipykernel_launcher.py:9: SettingWithCopyWarning: \n",
      "A value is trying to be set on a copy of a slice from a DataFrame\n",
      "\n",
      "See the caveats in the documentation: https://pandas.pydata.org/pandas-docs/stable/user_guide/indexing.html#returning-a-view-versus-a-copy\n",
      "  if __name__ == '__main__':\n",
      "/Users/askhabaliev/Desktop/yandex/venv/lib/python3.7/site-packages/ipykernel_launcher.py:9: SettingWithCopyWarning: \n",
      "A value is trying to be set on a copy of a slice from a DataFrame\n",
      "\n",
      "See the caveats in the documentation: https://pandas.pydata.org/pandas-docs/stable/user_guide/indexing.html#returning-a-view-versus-a-copy\n",
      "  if __name__ == '__main__':\n",
      "/Users/askhabaliev/Desktop/yandex/venv/lib/python3.7/site-packages/ipykernel_launcher.py:9: SettingWithCopyWarning: \n",
      "A value is trying to be set on a copy of a slice from a DataFrame\n",
      "\n",
      "See the caveats in the documentation: https://pandas.pydata.org/pandas-docs/stable/user_guide/indexing.html#returning-a-view-versus-a-copy\n",
      "  if __name__ == '__main__':\n"
     ]
    }
   ],
   "source": [
    "#формирование списка полигонов\n",
    "\n",
    "polygons = []\n",
    "\n",
    "places_id = df_places.place_id.unique()\n",
    "\n",
    "for i in places_id:\n",
    "    data = df_places.loc[df_places.place_id == i]\n",
    "    data.sort_values(by=['point_number'], inplace = True)\n",
    "    \n",
    "    polygons.append(data[['loc_lat', 'loc_lon']].to_numpy().tolist())"
   ]
  },
  {
   "cell_type": "code",
   "execution_count": null,
   "metadata": {},
   "outputs": [],
   "source": []
  },
  {
   "cell_type": "code",
   "execution_count": 424,
   "metadata": {},
   "outputs": [],
   "source": [
    "#проверка вхождений\n",
    "\n",
    "result = {}\n",
    "\n",
    "for points in polygons:\n",
    "    for user_id in user_point:\n",
    "        point = Point(user_point[user_id])\n",
    "        poly = Polygon(points)\n",
    "        \n",
    "        if point.within(poly):\n",
    "            try:\n",
    "                result.update({user_id: result[user_id]+1})\n",
    "            except:\n",
    "                result.update({user_id: 0})\n",
    "        else:\n",
    "            result.update({user_id: 0})"
   ]
  },
  {
   "cell_type": "code",
   "execution_count": null,
   "metadata": {},
   "outputs": [],
   "source": []
  },
  {
   "cell_type": "code",
   "execution_count": 426,
   "metadata": {},
   "outputs": [
    {
     "name": "stdout",
     "output_type": "stream",
     "text": [
      "id: 1 | number_of_places_available: 0 \n",
      "\n",
      "id: 2 | number_of_places_available: 0 \n",
      "\n",
      "id: 3 | number_of_places_available: 0 \n",
      "\n",
      "id: 4 | number_of_places_available: 1 \n",
      "\n",
      "id: 5 | number_of_places_available: 1 \n",
      "\n"
     ]
    }
   ],
   "source": [
    "#результат\n",
    "\n",
    "for i in result:\n",
    "    print('id:', i, '|', 'number_of_places_available:', result[i], '\\n')"
   ]
  },
  {
   "cell_type": "code",
   "execution_count": null,
   "metadata": {},
   "outputs": [],
   "source": []
  }
 ],
 "metadata": {
  "kernelspec": {
   "display_name": "Python 3",
   "language": "python",
   "name": "python3"
  },
  "language_info": {
   "codemirror_mode": {
    "name": "ipython",
    "version": 3
   },
   "file_extension": ".py",
   "mimetype": "text/x-python",
   "name": "python",
   "nbconvert_exporter": "python",
   "pygments_lexer": "ipython3",
   "version": "3.7.3"
  }
 },
 "nbformat": 4,
 "nbformat_minor": 4
}
